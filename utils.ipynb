{
 "cells": [
  {
   "cell_type": "markdown",
   "id": "7f8c613c-09f5-4853-ae11-4244f7d50fa2",
   "metadata": {},
   "source": [
    "## Salva frames vídeo\n",
    "Salva os frames de um vídeo em uma pasta."
   ]
  },
  {
   "cell_type": "code",
   "execution_count": 1,
   "id": "d5c41650-1ab5-4886-b37f-de37f74be2cd",
   "metadata": {},
   "outputs": [],
   "source": [
    "import os\n",
    "\n",
    "import cv2"
   ]
  },
  {
   "cell_type": "code",
   "execution_count": 4,
   "id": "4290e4b0-e155-48e7-9499-b3649f359182",
   "metadata": {},
   "outputs": [
    {
     "name": "stdout",
     "output_type": "stream",
     "text": [
      "29.97002997002997\n"
     ]
    }
   ],
   "source": [
    "cap = cv2.VideoCapture('camera.mp4')\n",
    "fps = cap.get(cv2.CAP_PROP_FPS)\n",
    "print(fps)"
   ]
  },
  {
   "cell_type": "code",
   "execution_count": 5,
   "id": "a19e5d39-d46d-4eab-be24-01960161aa9d",
   "metadata": {},
   "outputs": [
    {
     "name": "stdout",
     "output_type": "stream",
     "text": [
      "Done. Frames saved to 'saved_frames'.\n"
     ]
    }
   ],
   "source": [
    "video_path = 'camera.mp4'  # Video's path\n",
    "output_folder = 'saved_frames'  # Folder to save frames\n",
    "frame_interval = 90  # Save every N frames\n",
    "\n",
    "os.makedirs(output_folder, exist_ok=True)\n",
    "\n",
    "cap = cv2.VideoCapture(video_path)\n",
    "\n",
    "if not cap.isOpened():\n",
    "    raise ValueError(f'Error: Could not open video: {video_path}')\n",
    "\n",
    "frame_count = 0\n",
    "while True:  \n",
    "    ret, frame = cap.read()\n",
    "    if not ret:\n",
    "        break\n",
    "    if frame_count % frame_interval == 0:\n",
    "        cv2.imwrite(f'{output_folder}/{frame_count}.png', frame)\n",
    "    frame_count += 1\n",
    "\n",
    "cap.release()\n",
    "print(f\"Done. Frames saved to '{output_folder}'.\")\n"
   ]
  },
  {
   "cell_type": "markdown",
   "id": "e733f196-8636-44bc-97ed-57439ee8f0a6",
   "metadata": {},
   "source": [
    "## Realizar pré-anotação"
   ]
  },
  {
   "cell_type": "code",
   "execution_count": 6,
   "id": "4218547f-15cf-4393-990d-ee38271e5bc1",
   "metadata": {},
   "outputs": [],
   "source": [
    "from ultralytics import YOLO"
   ]
  },
  {
   "cell_type": "code",
   "execution_count": 7,
   "id": "06909848-936b-4d5e-9b6d-293b08759603",
   "metadata": {},
   "outputs": [],
   "source": [
    "model = YOLO('yolov8x')"
   ]
  },
  {
   "cell_type": "code",
   "execution_count": 8,
   "id": "ef9b86bd-4050-448c-8bb9-59a2750e52a0",
   "metadata": {
    "scrolled": true
   },
   "outputs": [
    {
     "data": {
      "text/plain": [
       "{0: 'person',\n",
       " 1: 'bicycle',\n",
       " 2: 'car',\n",
       " 3: 'motorcycle',\n",
       " 4: 'airplane',\n",
       " 5: 'bus',\n",
       " 6: 'train',\n",
       " 7: 'truck',\n",
       " 8: 'boat',\n",
       " 9: 'traffic light',\n",
       " 10: 'fire hydrant',\n",
       " 11: 'stop sign',\n",
       " 12: 'parking meter',\n",
       " 13: 'bench',\n",
       " 14: 'bird',\n",
       " 15: 'cat',\n",
       " 16: 'dog',\n",
       " 17: 'horse',\n",
       " 18: 'sheep',\n",
       " 19: 'cow',\n",
       " 20: 'elephant',\n",
       " 21: 'bear',\n",
       " 22: 'zebra',\n",
       " 23: 'giraffe',\n",
       " 24: 'backpack',\n",
       " 25: 'umbrella',\n",
       " 26: 'handbag',\n",
       " 27: 'tie',\n",
       " 28: 'suitcase',\n",
       " 29: 'frisbee',\n",
       " 30: 'skis',\n",
       " 31: 'snowboard',\n",
       " 32: 'sports ball',\n",
       " 33: 'kite',\n",
       " 34: 'baseball bat',\n",
       " 35: 'baseball glove',\n",
       " 36: 'skateboard',\n",
       " 37: 'surfboard',\n",
       " 38: 'tennis racket',\n",
       " 39: 'bottle',\n",
       " 40: 'wine glass',\n",
       " 41: 'cup',\n",
       " 42: 'fork',\n",
       " 43: 'knife',\n",
       " 44: 'spoon',\n",
       " 45: 'bowl',\n",
       " 46: 'banana',\n",
       " 47: 'apple',\n",
       " 48: 'sandwich',\n",
       " 49: 'orange',\n",
       " 50: 'broccoli',\n",
       " 51: 'carrot',\n",
       " 52: 'hot dog',\n",
       " 53: 'pizza',\n",
       " 54: 'donut',\n",
       " 55: 'cake',\n",
       " 56: 'chair',\n",
       " 57: 'couch',\n",
       " 58: 'potted plant',\n",
       " 59: 'bed',\n",
       " 60: 'dining table',\n",
       " 61: 'toilet',\n",
       " 62: 'tv',\n",
       " 63: 'laptop',\n",
       " 64: 'mouse',\n",
       " 65: 'remote',\n",
       " 66: 'keyboard',\n",
       " 67: 'cell phone',\n",
       " 68: 'microwave',\n",
       " 69: 'oven',\n",
       " 70: 'toaster',\n",
       " 71: 'sink',\n",
       " 72: 'refrigerator',\n",
       " 73: 'book',\n",
       " 74: 'clock',\n",
       " 75: 'vase',\n",
       " 76: 'scissors',\n",
       " 77: 'teddy bear',\n",
       " 78: 'hair drier',\n",
       " 79: 'toothbrush'}"
      ]
     },
     "execution_count": 8,
     "metadata": {},
     "output_type": "execute_result"
    }
   ],
   "source": [
    "model.names"
   ]
  },
  {
   "cell_type": "code",
   "execution_count": 10,
   "id": "f42a311e-7384-4267-a2a6-984570f394d2",
   "metadata": {},
   "outputs": [
    {
     "name": "stdout",
     "output_type": "stream",
     "text": [
      "Results saved to \u001b[1mruns/detect/predict\u001b[0m\n",
      "465 labels saved to runs/detect/predict/labels\n"
     ]
    }
   ],
   "source": [
    "outputs = model.predict('saved_frames',\n",
    "                        conf=0.3,\n",
    "                        iou=0.3,\n",
    "                        save=False,\n",
    "                        classes=[2, 3, 5, 7], # car, motorcycle, bus, truck\n",
    "                        save_txt=True,\n",
    "                        verbose=False,\n",
    "                        stream=False\n",
    "                       )"
   ]
  },
  {
   "cell_type": "markdown",
   "id": "20fd621b-0a38-45d2-ac5b-2a1c95a9a2be",
   "metadata": {},
   "source": [
    "## Modifica ID das classes nos .txt (YOLO detection annotation)"
   ]
  },
  {
   "cell_type": "code",
   "execution_count": 11,
   "id": "506c59e8-af73-46ae-bc85-98fccab1b1b6",
   "metadata": {},
   "outputs": [],
   "source": [
    "import os\n",
    "from pathlib import Path"
   ]
  },
  {
   "cell_type": "code",
   "execution_count": 12,
   "id": "86519853-82db-47fe-9bda-a3b12dc1beb7",
   "metadata": {},
   "outputs": [],
   "source": [
    "path = 'runs/detect/predict/labels'\n",
    "output_path = 'label_predict'\n",
    "\n",
    "Path(output_path).mkdir(parents=True, exist_ok=True)\n",
    "\n",
    "for filename in os.listdir(path):\n",
    "    file = open(f'{path}/{filename}', 'r')\n",
    "    annotation = ''\n",
    "    for line in file.readlines():\n",
    "        if line.startswith('2 '):\n",
    "            line = f'0 {line[2:]}'\n",
    "            annotation += line\n",
    "        elif line.startswith('3 '):\n",
    "            line = f'1 {line[2:]}'\n",
    "            annotation += line\n",
    "        elif line.startswith('5 '):\n",
    "            line = f'2 {line[2:]}'\n",
    "            annotation += line\n",
    "        elif line.startswith('7 '):\n",
    "            line = f'3 {line[2:]}'\n",
    "            annotation += line\n",
    "    if annotation:\n",
    "        new_file = open(f'{output_path}/{filename}', 'w')\n",
    "        new_file.write(annotation)\n",
    "    new_file.close()\n",
    "    file.close()\n",
    "    #break"
   ]
  },
  {
   "cell_type": "code",
   "execution_count": 16,
   "id": "3c488801-941f-4e0b-ba6c-697192763119",
   "metadata": {},
   "outputs": [],
   "source": [
    "path = 'dataset/test/labels'\n",
    "output_path = 'label_test'\n",
    "\n",
    "Path(output_path).mkdir(parents=True, exist_ok=True)\n",
    "\n",
    "for filename in os.listdir(path):\n",
    "    file = open(f'{path}/{filename}', 'r')\n",
    "    annotation = ''\n",
    "    for line in file.readlines():\n",
    "        if line.startswith('0 '):\n",
    "            line = f'2 {line[2:]}'\n",
    "            annotation += line\n",
    "        elif line.startswith('1 '):\n",
    "            line = f'3 {line[2:]}'\n",
    "            annotation += line\n",
    "        elif line.startswith('2 '):\n",
    "            line = f'5 {line[2:]}'\n",
    "            annotation += line\n",
    "        elif line.startswith('3 '):\n",
    "            line = f'7 {line[2:]}'\n",
    "            annotation += line\n",
    "    if annotation:\n",
    "        new_file = open(f'{output_path}/{filename}', 'w')\n",
    "        new_file.write(annotation)\n",
    "    new_file.close()\n",
    "    file.close()\n",
    "    #break"
   ]
  },
  {
   "cell_type": "markdown",
   "id": "a3e6ebdf-f659-4e0e-b925-3f2b97a7ca1b",
   "metadata": {},
   "source": [
    "### Remove anotações com IoU muito alto (duas detecções para o mesmo objeto)"
   ]
  },
  {
   "cell_type": "code",
   "execution_count": 13,
   "id": "ede7ca6d-b1d6-4554-abf6-e93229e5918f",
   "metadata": {},
   "outputs": [],
   "source": [
    "import os\n",
    "from pathlib import Path\n",
    "\n",
    "input_path = 'label_predict'\n",
    "output_path = 'label_predict_filtered'\n",
    "max_iou = 0.9  # Higher will be removed\n",
    "\n",
    "Path(output_path).mkdir(parents=True, exist_ok=True)\n",
    "\n",
    "def compute_iou(box1, box2):\n",
    "    # YOLO format: class x_center y_center width height\n",
    "    _, x1, y1, w1, h1 = box1\n",
    "    _, x2, y2, w2, h2 = box2\n",
    "\n",
    "    # Convert to (x1, y1, x2, y2)\n",
    "    xa1, ya1 = x1 - w1/2, y1 - h1/2\n",
    "    xa2, ya2 = x1 + w1/2, y1 + h1/2\n",
    "    xb1, yb1 = x2 - w2/2, y2 - h2/2\n",
    "    xb2, yb2 = x2 + w2/2, y2 + h2/2\n",
    "\n",
    "    inter_x1 = max(xa1, xb1)\n",
    "    inter_y1 = max(ya1, yb1)\n",
    "    inter_x2 = min(xa2, xb2)\n",
    "    inter_y2 = min(ya2, yb2)\n",
    "    inter_area = max(0, inter_x2 - inter_x1) * max(0, inter_y2 - inter_y1)\n",
    "\n",
    "    area_a = (xa2 - xa1) * (ya2 - ya1)\n",
    "    area_b = (xb2 - xb1) * (yb2 - yb1)\n",
    "    union_area = area_a + area_b - inter_area\n",
    "\n",
    "    return inter_area / union_area if union_area > 0 else 0\n",
    "\n",
    "\n",
    "\n",
    "for filename in os.listdir(input_path):\n",
    "    filepath = os.path.join(input_path, filename)\n",
    "    with open(filepath, 'r') as f:\n",
    "        lines = [list(map(float, l.strip().split())) for l in f if l.strip()]\n",
    "\n",
    "    keep = []\n",
    "    for i, box_i in enumerate(lines):\n",
    "        should_keep = True\n",
    "        for box_j in keep:\n",
    "            if compute_iou(box_i, box_j) > max_iou:\n",
    "                should_keep = False\n",
    "                break\n",
    "        if should_keep:\n",
    "            keep.append(box_i)\n",
    "\n",
    "    # Always save the file, even if empty\n",
    "    outpath = os.path.join(output_path, filename)\n",
    "    with open(outpath, 'w') as f:\n",
    "        for box in keep:\n",
    "            class_id = int(box[0])\n",
    "            rest = box[1:]\n",
    "            f.write(f'{class_id} ' + ' '.join(f'{v:.6f}' for v in rest) + '\\n')\n"
   ]
  }
 ],
 "metadata": {
  "kernelspec": {
   "display_name": "Python 3 (ipykernel)",
   "language": "python",
   "name": "python3"
  },
  "language_info": {
   "codemirror_mode": {
    "name": "ipython",
    "version": 3
   },
   "file_extension": ".py",
   "mimetype": "text/x-python",
   "name": "python",
   "nbconvert_exporter": "python",
   "pygments_lexer": "ipython3",
   "version": "3.12.9"
  }
 },
 "nbformat": 4,
 "nbformat_minor": 5
}
